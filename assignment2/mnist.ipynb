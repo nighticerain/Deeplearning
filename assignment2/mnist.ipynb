{
 "cells": [
  {
   "cell_type": "markdown",
   "metadata": {},
   "source": [
    "# Import libraries and load in the mnist data"
   ]
  },
  {
   "cell_type": "code",
   "execution_count": 1,
   "metadata": {},
   "outputs": [],
   "source": [
    "import numpy as np\n",
    "from PIL import Image\n",
    "from glob import glob\n",
    "import os.path as osp\n",
    "import matplotlib.pyplot as plt\n",
    "import re\n",
    "from tqdm import tqdm_notebook"
   ]
  },
  {
   "cell_type": "code",
   "execution_count": 5,
   "metadata": {},
   "outputs": [],
   "source": [
    "def load_data(train_path='train/', test_path='test/'):\n",
    "    train_list = glob(osp.join(train_path, '*.png'))\n",
    "    pattern = re.compile(r'num(\\d).png')\n",
    "    train_id = np.array([float(pattern.search(img_name).groups()[0]) for img_name in train_list])\n",
    "    train_data = np.concatenate([np.array(Image.open(img_name)).reshape((1, 784))for img_name in tqdm_notebook(train_list, leave=False)],\n",
    "                                axis=0).astype(np.float)\n",
    "\n",
    "    test_list = glob(osp.join(test_path, '*.png'))\n",
    "    test_id = np.array([float(pattern.search(img_name).groups()[0]) for img_name in test_list])\n",
    "    test_data = np.concatenate([np.array(Image.open(img_name)).reshape((1, 784)) for img_name in tqdm_notebook(test_list, leave=False)],\n",
    "                               axis=0).astype(np.float)\n",
    "\n",
    "    return train_data, train_id, test_data, test_id"
   ]
  },
  {
   "cell_type": "code",
   "execution_count": 6,
   "metadata": {},
   "outputs": [
    {
     "data": {
      "application/vnd.jupyter.widget-view+json": {
       "model_id": "",
       "version_major": 2,
       "version_minor": 0
      },
      "text/plain": [
       "HBox(children=(IntProgress(value=0, max=60000), HTML(value='')))"
      ]
     },
     "metadata": {},
     "output_type": "display_data"
    },
    {
     "name": "stdout",
     "output_type": "stream",
     "text": [
      "\r"
     ]
    },
    {
     "data": {
      "application/vnd.jupyter.widget-view+json": {
       "model_id": "",
       "version_major": 2,
       "version_minor": 0
      },
      "text/plain": [
       "HBox(children=(IntProgress(value=0, max=10000), HTML(value='')))"
      ]
     },
     "metadata": {},
     "output_type": "display_data"
    },
    {
     "name": "stdout",
     "output_type": "stream",
     "text": [
      "\r"
     ]
    }
   ],
   "source": [
    "X, y, X_test, y_test = load_data()"
   ]
  },
  {
   "cell_type": "code",
   "execution_count": 4,
   "metadata": {},
   "outputs": [
    {
     "data": {
      "text/plain": [
       "(60000, 784)"
      ]
     },
     "execution_count": 4,
     "metadata": {},
     "output_type": "execute_result"
    }
   ],
   "source": [
    "X.shape"
   ]
  },
  {
   "cell_type": "code",
   "execution_count": 5,
   "metadata": {},
   "outputs": [
    {
     "data": {
      "text/plain": [
       "(10000, 784)"
      ]
     },
     "execution_count": 5,
     "metadata": {},
     "output_type": "execute_result"
    }
   ],
   "source": [
    "X_test.shape"
   ]
  },
  {
   "cell_type": "code",
   "execution_count": 6,
   "metadata": {},
   "outputs": [
    {
     "data": {
      "text/plain": [
       "array([8., 7., 4., ..., 2., 3., 6.])"
      ]
     },
     "execution_count": 6,
     "metadata": {},
     "output_type": "execute_result"
    }
   ],
   "source": [
    "y"
   ]
  },
  {
   "cell_type": "markdown",
   "metadata": {},
   "source": [
    "### Look at the data"
   ]
  },
  {
   "cell_type": "code",
   "execution_count": 7,
   "metadata": {},
   "outputs": [
    {
     "data": {
      "image/png": "[encoded data removed]",
      "text/plain": [
       "<Figure size 432x288 with 1 Axes>"
      ]
     },
     "metadata": {
      "needs_background": "light"
     },
     "output_type": "display_data"
    }
   ],
   "source": [
    "plt.imshow(X[0].reshape((28, 28)), cmap='gray')\n",
    "plt.show()"
   ]
  },
  {
   "cell_type": "code",
   "execution_count": 8,
   "metadata": {},
   "outputs": [
    {
     "data": {
      "text/plain": [
       "array([[  0.,   0.,   0.,   0.,   0.,   0.,   0.,   0.,   0.,   0.,   0.,\n",
       "          0.,   0.,   0.,   0.,   0.,   0.,   0.,   0.,   0.,   0.,   0.,\n",
       "          0.,   0.,   0.,   0.,   0.,   0.],\n",
       "       [  0.,   0.,   0.,   0.,   0.,   0.,   0.,   0.,   0.,   0.,   0.,\n",
       "          0.,   0.,   0.,   0.,   0.,   0.,   0.,   0.,   0.,   0.,   0.,\n",
       "          0.,   0.,   0.,   0.,   0.,   0.],\n",
       "       [  0.,   0.,   0.,   0.,   0.,   0.,   0.,   0.,   0.,   0.,   0.,\n",
       "          0.,   0.,   0.,   0.,   0.,   0.,   0.,   0.,   0.,   0.,   0.,\n",
       "          0.,   0.,   0.,   0.,   0.,   0.],\n",
       "       [  0.,   0.,   0.,   0.,   0.,   0.,   0.,   0.,   0.,   0.,   0.,\n",
       "          0.,   0.,   0.,   0.,   0.,   0.,   0.,   0.,   0.,   0.,   0.,\n",
       "          0.,   0.,   0.,   0.,   0.,   0.],\n",
       "       [  0.,   0.,   0.,   0.,   0.,   0.,   0.,   0.,   0.,  26., 136.,\n",
       "        255., 255., 121.,  13.,   0.,   0.,   0.,   0.,   0.,   0.,   0.,\n",
       "          0.,   0.,   0.,   0.,   0.,   0.],\n",
       "       [  0.,   0.,   0.,   0.,   0.,   0.,   0.,   0.,   0., 183., 254.,\n",
       "        254., 254., 254.,  27.,   0.,   0.,   0.,   0.,   0.,   0.,   0.,\n",
       "          0.,   0.,   0.,   0.,   0.,   0.],\n",
       "       [  0.,   0.,   0.,   0.,   0.,   0.,   0.,   0., 106., 245., 254.,\n",
       "        254., 215., 252., 170.,  35.,  76.,  27.,   0.,   0.,   0.,   0.,\n",
       "          0.,   0.,   0.,   0.,   0.,   0.],\n",
       "       [  0.,   0.,   0.,   0.,   0.,   0.,   0.,  74., 245., 254., 247.,\n",
       "        117.,  30., 120., 248., 221., 254.,  89.,   0.,   0.,   0.,   0.,\n",
       "          0.,   0.,   0.,   0.,   0.,   0.],\n",
       "       [  0.,   0.,   0.,   0.,   0.,   0.,   0.,  31., 227., 254., 126.,\n",
       "          0.,   0.,   0.,  73., 222., 248.,  77.,   0.,   0.,   0.,   0.,\n",
       "          0.,   0.,   0.,   0.,   0.,   0.],\n",
       "       [  0.,   0.,   0.,   0.,   0.,   0.,   0.,   0., 207., 254., 164.,\n",
       "          0.,   0.,   0.,  54., 235., 206.,   0.,   0.,   0.,   0.,   0.,\n",
       "          0.,   0.,   0.,   0.,   0.,   0.],\n",
       "       [  0.,   0.,   0.,   0.,   0.,   0.,   0.,   0.,  76., 254., 220.,\n",
       "          0.,   0.,   0., 161., 254., 135.,   0.,   0.,   0.,   0.,   0.,\n",
       "          0.,   0.,   0.,   0.,   0.,   0.],\n",
       "       [  0.,   0.,   0.,   0.,   0.,   0.,   0.,   0.,  43., 228., 235.,\n",
       "         45.,   0.,  48., 239., 187.,   2.,   0.,   0.,   0.,   0.,   0.,\n",
       "          0.,   0.,   0.,   0.,   0.,   0.],\n",
       "       [  0.,   0.,   0.,   0.,   0.,   0.,   0.,   0.,   0., 193., 254.,\n",
       "        231.,  44., 234., 254.,  62.,   0.,   0.,   0.,   0.,   0.,   0.,\n",
       "          0.,   0.,   0.,   0.,   0.,   0.],\n",
       "       [  0.,   0.,   0.,   0.,   0.,   0.,   0.,   0.,   0.,  36., 150.,\n",
       "        254., 230., 253., 181.,   9.,   0.,   0.,   0.,   0.,   0.,   0.,\n",
       "          0.,   0.,   0.,   0.,   0.,   0.],\n",
       "       [  0.,   0.,   0.,   0.,   0.,   0.,   0.,   0.,   0.,   0.,  28.,\n",
       "        235., 254., 254., 230.,  61.,   0.,   0.,   0.,   0.,   0.,   0.,\n",
       "          0.,   0.,   0.,   0.,   0.,   0.],\n",
       "       [  0.,   0.,   0.,   0.,   0.,   0.,   0.,   0.,   0.,   0.,   0.,\n",
       "        152., 254., 254., 254., 230., 140.,  28.,  27.,   0.,   0.,   0.,\n",
       "          0.,   0.,   0.,   0.,   0.,   0.],\n",
       "       [  0.,   0.,   0.,   0.,   0.,   0.,   0.,   0.,   0.,   0.,  20.,\n",
       "        210., 254., 251., 247., 249., 254., 254., 251., 145.,  89.,   5.,\n",
       "          0.,   0.,   0.,   0.,   0.,   0.],\n",
       "       [  0.,   0.,   0.,   0.,   0.,   0.,   0.,   0.,   0.,   0.,  35.,\n",
       "        254., 254., 144.,   0.,  36., 154., 254., 254., 254., 254., 212.,\n",
       "         27.,   0.,   0.,   0.,   0.,   0.],\n",
       "       [  0.,   0.,   0.,   0.,   0.,   0.,   0.,   0.,   0.,   0.,  35.,\n",
       "        254., 254.,  13.,   0.,   0.,   3.,  13.,  17., 151., 193., 254.,\n",
       "        211.,  87.,   0.,   0.,   0.,   0.],\n",
       "       [  0.,   0.,   0.,   0.,   0.,   0.,   0.,   0.,   0.,   0.,  35.,\n",
       "        254., 254.,  51.,   0.,   0.,   0.,   0.,   0.,   0.,  14., 105.,\n",
       "        254., 213.,   0.,   0.,   0.,   0.],\n",
       "       [  0.,   0.,   0.,   0.,   0.,   0.,   0.,   0.,   0.,   0.,   8.,\n",
       "        140., 254., 231.,  55.,   0.,   0.,   0.,   0.,   0.,   0.,  83.,\n",
       "        254., 213.,   0.,   0.,   0.,   0.],\n",
       "       [  0.,   0.,   0.,   0.,   0.,   0.,   0.,   0.,   0.,   0.,   0.,\n",
       "          5., 167., 254., 228., 142.,  12.,  27.,  46., 180., 180., 204.,\n",
       "        254., 190.,   0.,   0.,   0.,   0.],\n",
       "       [  0.,   0.,   0.,   0.,   0.,   0.,   0.,   0.,   0.,   0.,   0.,\n",
       "          0.,  50., 156., 252., 254., 184., 221., 254., 254., 254., 247.,\n",
       "        125.,  28.,   0.,   0.,   0.,   0.],\n",
       "       [  0.,   0.,   0.,   0.,   0.,   0.,   0.,   0.,   0.,   0.,   0.,\n",
       "          0.,   0.,   0., 104., 154., 254., 254., 254., 254., 123.,  79.,\n",
       "          0.,   0.,   0.,   0.,   0.,   0.],\n",
       "       [  0.,   0.,   0.,   0.,   0.,   0.,   0.,   0.,   0.,   0.,   0.,\n",
       "          0.,   0.,   0.,   0.,   0.,   0.,   0.,   0.,   0.,   0.,   0.,\n",
       "          0.,   0.,   0.,   0.,   0.,   0.],\n",
       "       [  0.,   0.,   0.,   0.,   0.,   0.,   0.,   0.,   0.,   0.,   0.,\n",
       "          0.,   0.,   0.,   0.,   0.,   0.,   0.,   0.,   0.,   0.,   0.,\n",
       "          0.,   0.,   0.,   0.,   0.,   0.],\n",
       "       [  0.,   0.,   0.,   0.,   0.,   0.,   0.,   0.,   0.,   0.,   0.,\n",
       "          0.,   0.,   0.,   0.,   0.,   0.,   0.,   0.,   0.,   0.,   0.,\n",
       "          0.,   0.,   0.,   0.,   0.,   0.],\n",
       "       [  0.,   0.,   0.,   0.,   0.,   0.,   0.,   0.,   0.,   0.,   0.,\n",
       "          0.,   0.,   0.,   0.,   0.,   0.,   0.,   0.,   0.,   0.,   0.,\n",
       "          0.,   0.,   0.,   0.,   0.,   0.]])"
      ]
     },
     "execution_count": 8,
     "metadata": {},
     "output_type": "execute_result"
    }
   ],
   "source": [
    "X[0].reshape((28, 28))"
   ]
  },
  {
   "cell_type": "markdown",
   "metadata": {},
   "source": [
    "#### Normalize our data by MinMax Scaler\n",
    "\n",
    "Which is, to divide every pixel by 255"
   ]
  },
  {
   "cell_type": "code",
   "execution_count": 9,
   "metadata": {},
   "outputs": [],
   "source": [
    "X /= 255\n",
    "X_test /= 255"
   ]
  },
  {
   "cell_type": "markdown",
   "metadata": {},
   "source": [
    "#### Split the data into mini-batches"
   ]
  },
  {
   "cell_type": "code",
   "execution_count": 10,
   "metadata": {},
   "outputs": [],
   "source": [
    "# feed 128 examples to network at a time\n",
    "batch_size = 128"
   ]
  },
  {
   "cell_type": "code",
   "execution_count": 11,
   "metadata": {},
   "outputs": [],
   "source": [
    "X_mini_batches = [X[k:k+batch_size] for k in range(0, len(X), batch_size)]\n",
    "y_mini_batches = [y[k:k+batch_size] for k in range(0, len(y), batch_size)]"
   ]
  },
  {
   "cell_type": "code",
   "execution_count": 12,
   "metadata": {},
   "outputs": [
    {
     "data": {
      "text/plain": [
       "((128, 784), (96, 784))"
      ]
     },
     "execution_count": 12,
     "metadata": {},
     "output_type": "execute_result"
    }
   ],
   "source": [
    "X_mini_batches[0].shape, X_mini_batches[-1].shape"
   ]
  },
  {
   "cell_type": "code",
   "execution_count": 13,
   "metadata": {},
   "outputs": [
    {
     "data": {
      "text/plain": [
       "((128,), (96,))"
      ]
     },
     "execution_count": 13,
     "metadata": {},
     "output_type": "execute_result"
    }
   ],
   "source": [
    "y_mini_batches[0].shape, y_mini_batches[-1].shape"
   ]
  },
  {
   "cell_type": "code",
   "execution_count": 14,
   "metadata": {},
   "outputs": [
    {
     "data": {
      "text/plain": [
       "(469, 469)"
      ]
     },
     "execution_count": 14,
     "metadata": {},
     "output_type": "execute_result"
    }
   ],
   "source": [
    "len(X_mini_batches), len(y_mini_batches)"
   ]
  },
  {
   "cell_type": "markdown",
   "metadata": {},
   "source": [
    "# Start building a SoftMax Classifier"
   ]
  },
  {
   "cell_type": "code",
   "execution_count": 15,
   "metadata": {},
   "outputs": [],
   "source": [
    "# initialize parameters randomly\n",
    "W = 0.01 * np.random.randn(784, 10)\n",
    "b = np.zeros((1, 10))"
   ]
  },
  {
   "cell_type": "markdown",
   "metadata": {},
   "source": [
    "## Forward Pass\n",
    "Compute Class scores\n",
    "$$\n",
    "y_i=Wx_i+b\n",
    "$$\n",
    "Use SoftMax to convert from scores to probs\n",
    "$$\n",
    "p_{i,j}=\\frac{e^{y_{i,j}}}{\\sum_{k}e^{y_{i,k}}}\n",
    "$$"
   ]
  },
  {
   "cell_type": "code",
   "execution_count": 16,
   "metadata": {},
   "outputs": [],
   "source": [
    "# We are gonna use the first mini batch for demo\n",
    "X_batch, y_batch = X_mini_batches[0], y_mini_batches[0]"
   ]
  },
  {
   "cell_type": "code",
   "execution_count": 17,
   "metadata": {},
   "outputs": [],
   "source": [
    "# compute class scores for a linear classifier\n",
    "scores = np.dot(X_batch, W) + b\n",
    "num_examples = X_batch.shape[0]\n",
    "# get unnormalized probabilities\n",
    "exp_scores = np.exp(scores)\n",
    "# normalize them for each example\n",
    "probs = exp_scores / np.sum(exp_scores, axis=1, keepdims=True)"
   ]
  },
  {
   "cell_type": "markdown",
   "metadata": {},
   "source": [
    "## Compute the loss\n",
    "Classification loss:\n",
    "$$\n",
    "L_i=-\\sum_{j}t_{i,j}log(p_{i,j})\n",
    "$$\n",
    "Regularization loss:\n",
    "$$\n",
    "L_{reg}=\\frac{1}{2}\\lambda \\|W\\|^2\n",
    "$$\n",
    "Over all loss:\n",
    "$$\n",
    "L=\\frac{1}{N}\\sum_{i}L_i+\\frac{1}{2}\\lambda \\|W\\|^2\n",
    "$$"
   ]
  },
  {
   "cell_type": "code",
   "execution_count": 18,
   "metadata": {},
   "outputs": [],
   "source": [
    "correct_logprobs = -np.log(probs[range(num_examples), y_batch.astype(np.int)])"
   ]
  },
  {
   "cell_type": "code",
   "execution_count": 19,
   "metadata": {},
   "outputs": [],
   "source": [
    "reg = 1e-3"
   ]
  },
  {
   "cell_type": "code",
   "execution_count": 20,
   "metadata": {},
   "outputs": [],
   "source": [
    "# compute the loss: average cross-entropy loss and regularization\n",
    "data_loss = np.sum(correct_logprobs) / num_examples\n",
    "reg_loss = 0.5 * reg * np.sum(W * W)\n",
    "loss = data_loss + reg_loss"
   ]
  },
  {
   "cell_type": "code",
   "execution_count": 21,
   "metadata": {},
   "outputs": [
    {
     "data": {
      "text/plain": [
       "2.2928781582963933"
      ]
     },
     "execution_count": 21,
     "metadata": {},
     "output_type": "execute_result"
    }
   ],
   "source": [
    "loss"
   ]
  },
  {
   "cell_type": "markdown",
   "metadata": {},
   "source": [
    "## Backward Pass\n",
    "$$\n",
    "\\frac{\\partial L_i}{\\partial y_i}=p_i-t_i\n",
    "$$\n",
    "By apply the chain rule\n",
    "$$\n",
    "\\frac{\\partial L_i}{\\partial W}=\\frac{\\partial L_i}{\\partial y_i}\\frac{\\partial y_i}{\\partial W}\n",
    "=\\frac{\\partial L_i}{\\partial y_i}x_i\\\\\n",
    "$$\n",
    "\n",
    "\n",
    "$$\n",
    "\\frac{\\partial L_i}{\\partial b}=\\frac{\\partial L_i}{\\partial y_i}\\frac{\\partial y_i}{\\partial b}\n",
    "=\\frac{\\partial L_i}{\\partial y_i}\n",
    "$$\n",
    "And the regularization term\n",
    "$$\n",
    "\\frac{\\partial }{\\partial W} (\\frac{1}{2}\\lambda \\|W\\|^2)=\\lambda W\n",
    "$$"
   ]
  },
  {
   "cell_type": "code",
   "execution_count": 22,
   "metadata": {},
   "outputs": [],
   "source": [
    "dscores = probs\n",
    "dscores[range(num_examples), y_batch.astype(np.int)] -= 1\n",
    "dscores /= num_examples"
   ]
  },
  {
   "cell_type": "code",
   "execution_count": 23,
   "metadata": {},
   "outputs": [],
   "source": [
    "dW = np.dot(X_batch.T, dscores)\n",
    "db = np.sum(dscores, axis=0, keepdims=True)\n",
    "dW += reg * W # don't forget the regularization gradient"
   ]
  },
  {
   "cell_type": "markdown",
   "metadata": {},
   "source": [
    "#### Update parameter"
   ]
  },
  {
   "cell_type": "code",
   "execution_count": 24,
   "metadata": {},
   "outputs": [],
   "source": [
    "# perform a parameter update\n",
    "W += -0.01 * dW\n",
    "b += -0.01 * db"
   ]
  },
  {
   "cell_type": "markdown",
   "metadata": {},
   "source": [
    "#### Form a training loop"
   ]
  },
  {
   "cell_type": "code",
   "execution_count": 25,
   "metadata": {},
   "outputs": [],
   "source": [
    "W = 0.01 * np.random.randn(784,10)\n",
    "b = np.zeros((1,10))"
   ]
  },
  {
   "cell_type": "code",
   "execution_count": 26,
   "metadata": {},
   "outputs": [],
   "source": [
    "step_size = 1e-0\n",
    "reg = 1e-3"
   ]
  },
  {
   "cell_type": "code",
   "execution_count": 27,
   "metadata": {},
   "outputs": [],
   "source": [
    "# define some function to increase readibility\n",
    "def forward(W, b, reg, X_batch, y_batch):\n",
    "    # Forward pass\n",
    "    num_examples = X_batch.shape[0]\n",
    "    scores = np.dot(X_batch, W) + b\n",
    "    exp_scores = np.exp(scores)\n",
    "    probs = exp_scores / np.sum(exp_scores, axis=1, keepdims=True)\n",
    "    # Compute loss\n",
    "    correct_logprobs = -np.log(probs[range(num_examples), y_batch.astype(np.int)])\n",
    "    data_loss = np.sum(correct_logprobs)/num_examples\n",
    "    reg_loss = 0.5*reg*np.sum(W*W)\n",
    "    loss = data_loss + reg_loss\n",
    "    return loss, probs"
   ]
  },
  {
   "cell_type": "code",
   "execution_count": 28,
   "metadata": {},
   "outputs": [],
   "source": [
    "def backward(W, b, reg, X_batch, y_batch, probs):\n",
    "    num_examples = X_batch.shape[0]\n",
    "    # Backward Pass\n",
    "    dscores = probs\n",
    "    dscores[range(num_examples), y_batch.astype(np.int)] -= 1\n",
    "    dscores /= num_examples\n",
    "    dW = np.dot(X_batch.T, dscores)\n",
    "    db = np.sum(dscores, axis=0, keepdims=True)\n",
    "    dW += reg * W # regularization gradient\n",
    "    return dW, db"
   ]
  },
  {
   "cell_type": "code",
   "execution_count": 29,
   "metadata": {},
   "outputs": [
    {
     "data": {
      "application/vnd.jupyter.widget-view+json": {
       "model_id": "332c7bc1e6c84981bbe40a440ee53059",
       "version_major": 2,
       "version_minor": 0
      },
      "text/plain": [
       "HBox(children=(IntProgress(value=0, max=50), HTML(value='')))"
      ]
     },
     "metadata": {},
     "output_type": "display_data"
    },
    {
     "name": "stdout",
     "output_type": "stream",
     "text": [
      "iteration 0: loss 2.307334\n",
      "iteration 10: loss 0.409535\n",
      "iteration 20: loss 0.409693\n",
      "iteration 30: loss 0.409710\n",
      "iteration 40: loss 0.409712\n",
      "\n"
     ]
    }
   ],
   "source": [
    "for i in tqdm_notebook(range(50)):\n",
    "    for idx, (X_batch, y_batch) in enumerate(zip(X_mini_batches, y_mini_batches)):\n",
    "        loss, probs = forward(W, b, reg, X_batch, y_batch)\n",
    "        if i % 10 == 0 and idx == 0:\n",
    "            print(\"iteration %d: loss %f\" % (i, loss))\n",
    "  \n",
    "        dW, db = backward(W, b, reg, X_batch, y_batch, probs)\n",
    "\n",
    "        # perform a parameter update\n",
    "        W += -step_size * dW\n",
    "        b += -step_size * db"
   ]
  },
  {
   "cell_type": "code",
   "execution_count": 30,
   "metadata": {},
   "outputs": [
    {
     "name": "stdout",
     "output_type": "stream",
     "text": [
      "training accuracy: 0.90500\n"
     ]
    }
   ],
   "source": [
    "# evaluate training set accuracy\n",
    "_, probs = forward(W, b, reg, X, y)\n",
    "predicted_class = np.argmax(probs, axis=1)\n",
    "print( 'training accuracy: %.5f' % (np.mean(predicted_class == y)))"
   ]
  },
  {
   "cell_type": "code",
   "execution_count": 31,
   "metadata": {},
   "outputs": [
    {
     "name": "stdout",
     "output_type": "stream",
     "text": [
      "test accuracy: 0.90870\n"
     ]
    }
   ],
   "source": [
    "# evaluate training set accuracy\n",
    "_, probs = forward(W, b, reg, X_test, y_test)\n",
    "predicted_class = np.argmax(probs, axis=1)\n",
    "print( 'test accuracy: %.5f' % (np.mean(predicted_class == y_test)))"
   ]
  },
  {
   "cell_type": "markdown",
   "metadata": {},
   "source": [
    "#### SoftMax compared with multiple logistics regression model\n",
    "\n",
    "Gradient for SoftMax is \n",
    "$$\n",
    "\\frac{\\partial L_i}{\\partial W}=\\frac{\\partial L_i}{\\partial y_i}\\frac{\\partial y_i}{\\partial W}\n",
    "=\\frac{\\partial L_i}{\\partial y_i}x_i\\\\\n",
    "$$\n",
    "\n",
    "\n",
    "$$\n",
    "\\frac{\\partial L_i}{\\partial b}=\\frac{\\partial L_i}{\\partial y_i}\\frac{\\partial y_i}{\\partial b}\n",
    "=\\frac{\\partial L_i}{\\partial y_i}\n",
    "$$\n",
    "\n",
    "Where $\\frac{\\partial L_i}{\\partial y_i}$ is\n",
    "$$\n",
    "\\frac{\\partial L_i}{\\partial y_i}=p_i-t_i\n",
    "$$\n",
    "\n",
    "Gradient for Logistics regression is\n",
    "$$\n",
    "\\frac{\\partial J(\\theta)}{\\partial \\theta}=\\sum_{i=1}^{m}(y_{\\theta}(x)-t^{(i)})x^{(i)}\n",
    "$$\n",
    "\n",
    "So the Gradient for SoftMax and Logistics Regression is actually the same!\n",
    "\n",
    "One key different is that SoftMax can ensure that probability for every class can add up to 1, while Logistics Regression cannot.\n",
    "\n",
    "SoftMax is \n",
    "$$\n",
    "p_{i,j}=\\frac{e^{y_{i,j}}}{\\sum_{k}e^{y_{i,k}}}\n",
    "$$\n",
    "\n",
    "Logistics Regression is\n",
    "$$\n",
    "y_{\\theta_i} = \\frac{1}{1+e^{-\\theta_i^Tx}}\n",
    "$$"
   ]
  },
  {
   "cell_type": "code",
   "execution_count": 32,
   "metadata": {},
   "outputs": [
    {
     "data": {
      "image/png": "[encoded data removed]",
      "text/plain": [
       "<Figure size 432x288 with 1 Axes>"
      ]
     },
     "metadata": {
      "needs_background": "light"
     },
     "output_type": "display_data"
    }
   ],
   "source": [
    "plt.imshow(X_test[0].reshape((28, 28)), cmap='gray')\n",
    "plt.show()"
   ]
  },
  {
   "cell_type": "markdown",
   "metadata": {},
   "source": [
    "So SoftMax can force all probs to sum up to 1"
   ]
  },
  {
   "cell_type": "code",
   "execution_count": 33,
   "metadata": {},
   "outputs": [
    {
     "data": {
      "text/plain": [
       "(3, 1.0000000000000002)"
      ]
     },
     "execution_count": 33,
     "metadata": {},
     "output_type": "execute_result"
    }
   ],
   "source": [
    "np.argmax(probs[0]), np.sum(probs[0])"
   ]
  },
  {
   "cell_type": "code",
   "execution_count": 34,
   "metadata": {},
   "outputs": [
    {
     "data": {
      "image/png": "[encoded data removed]",
      "text/plain": [
       "<Figure size 432x288 with 1 Axes>"
      ]
     },
     "metadata": {
      "needs_background": "light"
     },
     "output_type": "display_data"
    }
   ],
   "source": [
    "# probs is the probability we get from X_test[0]\n",
    "plt.bar(range(10), probs[0])\n",
    "plt.show()"
   ]
  },
  {
   "cell_type": "code",
   "execution_count": 35,
   "metadata": {},
   "outputs": [],
   "source": [
    "def get_classifier(X_train, y_train, num_epoch=1000, alpha=0.01):\n",
    "    theta = np.zeros((X_train.shape[1]))\n",
    "    for epoch in range(num_epoch):\n",
    "        # forward pass\n",
    "        logits = np.dot(X_train, theta)\n",
    "        h = 1 / (1 + np.exp(-logits))\n",
    "        cross_entropy_loss = (-y_train * np.log(h) - (1 - y_train) * np.log(1 - h)).mean()\n",
    "    \n",
    "        # backward pass\n",
    "        gradient = np.dot((h - y_train), X_train) / y.size\n",
    "        theta = theta - alpha * gradient\n",
    "    return theta\n",
    "\n",
    "def multi_classifier(X_train, y_train):\n",
    "    num_class = np.unique(y_train)\n",
    "    param = np.zeros((len(num_class), X_train.shape[1]))\n",
    "    \n",
    "    for i in tqdm_notebook(num_class):\n",
    "        label_t = np.zeros_like(y_train)\n",
    "        num_class = np.unique(y_train)\n",
    "        label_t[y_train == num_class[int(i)]] = 1\n",
    "        param[int(i), :] = get_classifier(X_train, label_t)\n",
    "    \n",
    "    return param"
   ]
  },
  {
   "cell_type": "code",
   "execution_count": 36,
   "metadata": {},
   "outputs": [
    {
     "data": {
      "application/vnd.jupyter.widget-view+json": {
       "model_id": "2cb5833e891e4ab6a1823ffb805a6d0c",
       "version_major": 2,
       "version_minor": 0
      },
      "text/plain": [
       "HBox(children=(IntProgress(value=0, max=10), HTML(value='')))"
      ]
     },
     "metadata": {},
     "output_type": "display_data"
    },
    {
     "name": "stdout",
     "output_type": "stream",
     "text": [
      "\n"
     ]
    }
   ],
   "source": [
    "W_logistic = multi_classifier(X, y)"
   ]
  },
  {
   "cell_type": "code",
   "execution_count": 37,
   "metadata": {},
   "outputs": [],
   "source": [
    "np.save('W_logistic.npy', W_logistic)"
   ]
  },
  {
   "cell_type": "code",
   "execution_count": 38,
   "metadata": {},
   "outputs": [],
   "source": [
    "W_logistic = np.load('W_logistic.npy')"
   ]
  },
  {
   "cell_type": "code",
   "execution_count": 39,
   "metadata": {},
   "outputs": [],
   "source": [
    "scores = np.dot(X_test[0], W_logistic.T)"
   ]
  },
  {
   "cell_type": "code",
   "execution_count": 40,
   "metadata": {},
   "outputs": [],
   "source": [
    "scores = 1 / (1 + np.exp(-scores))"
   ]
  },
  {
   "cell_type": "code",
   "execution_count": 41,
   "metadata": {},
   "outputs": [
    {
     "data": {
      "text/plain": [
       "(3, 0.11885482362556947)"
      ]
     },
     "execution_count": 41,
     "metadata": {},
     "output_type": "execute_result"
    }
   ],
   "source": [
    "np.argmax(scores), np.sum(scores)"
   ]
  },
  {
   "cell_type": "code",
   "execution_count": 42,
   "metadata": {},
   "outputs": [
    {
     "data": {
      "text/plain": [
       "array([1.48391378e-03, 1.16825283e-04, 7.59152825e-03, 7.85978369e-02,\n",
       "       5.23101941e-05, 6.91530261e-03, 2.03889932e-02, 2.02595597e-04,\n",
       "       3.34715722e-03, 1.58360624e-04])"
      ]
     },
     "execution_count": 42,
     "metadata": {},
     "output_type": "execute_result"
    }
   ],
   "source": [
    "scores"
   ]
  },
  {
   "cell_type": "code",
   "execution_count": 43,
   "metadata": {},
   "outputs": [
    {
     "data": {
      "image/png": "[encoded data removed]",
      "text/plain": [
       "<Figure size 432x288 with 1 Axes>"
      ]
     },
     "metadata": {
      "needs_background": "light"
     },
     "output_type": "display_data"
    }
   ],
   "source": [
    "plt.bar(range(10), scores[0])\n",
    "plt.show()"
   ]
  },
  {
   "cell_type": "markdown",
   "metadata": {},
   "source": [
    "# Two layer neural network"
   ]
  },
  {
   "cell_type": "code",
   "execution_count": 44,
   "metadata": {},
   "outputs": [],
   "source": [
    "# initialize parameters randomly\n",
    "h = 256 # size of hidden layer\n",
    "W = 0.01 * np.random.randn(784,h)\n",
    "b = np.zeros((1,h))\n",
    "W2 = 0.01 * np.random.randn(h,10)\n",
    "b2 = np.zeros((1,10))"
   ]
  },
  {
   "cell_type": "markdown",
   "metadata": {},
   "source": [
    "<img src=\"twolayer.png\" style=\"zoom:50%;\" align=\"middle\" />"
   ]
  },
  {
   "cell_type": "code",
   "execution_count": 45,
   "metadata": {},
   "outputs": [],
   "source": [
    "X_batch, y_batch = X_mini_batches[0], y_mini_batches[0]"
   ]
  },
  {
   "cell_type": "markdown",
   "metadata": {},
   "source": [
    "#### Two layer neural network as a automatic feature engineering\n",
    "\n",
    "Picture from the nndl-ebook\n",
    "\n",
    "<img src=\"nndl.png\" style=\"zoom:50%;\" align=\"middle\"/>"
   ]
  },
  {
   "cell_type": "code",
   "execution_count": 46,
   "metadata": {},
   "outputs": [],
   "source": [
    "# evaluate class scores with a 2-layer Neural Network\n",
    "hidden_layer = np.maximum(0, np.dot(X_batch, W) + b) # note, ReLU activation\n",
    "scores = np.dot(hidden_layer, W2) + b2"
   ]
  },
  {
   "cell_type": "code",
   "execution_count": 47,
   "metadata": {},
   "outputs": [],
   "source": [
    "num_examples = X_batch.shape[0]\n",
    "# get unnormalized probabilities\n",
    "exp_scores = np.exp(scores)\n",
    "# normalize them for each example\n",
    "probs = exp_scores / np.sum(exp_scores, axis=1, keepdims=True)\n",
    "\n",
    "correct_logprobs = -np.log(probs[range(num_examples), y_batch.astype(np.int)])"
   ]
  },
  {
   "cell_type": "code",
   "execution_count": 48,
   "metadata": {},
   "outputs": [],
   "source": [
    "# compute the loss: average cross-entropy loss and regularization\n",
    "data_loss = np.sum(correct_logprobs) / num_examples\n",
    "reg_loss = 0.5 * reg * np.sum(W * W)\n",
    "loss = data_loss + reg_loss"
   ]
  },
  {
   "cell_type": "code",
   "execution_count": 49,
   "metadata": {},
   "outputs": [
    {
     "data": {
      "text/plain": [
       "2.3108377670883447"
      ]
     },
     "execution_count": 49,
     "metadata": {},
     "output_type": "execute_result"
    }
   ],
   "source": [
    "loss"
   ]
  },
  {
   "cell_type": "code",
   "execution_count": 50,
   "metadata": {},
   "outputs": [],
   "source": [
    "dscores = probs\n",
    "dscores[range(num_examples), y_batch.astype(np.int)] -= 1\n",
    "dscores /= num_examples"
   ]
  },
  {
   "cell_type": "code",
   "execution_count": 51,
   "metadata": {},
   "outputs": [],
   "source": [
    "# backpropate the gradient to the parameters\n",
    "# first backprop into parameters W2 and b2\n",
    "dW2 = np.dot(hidden_layer.T, dscores)\n",
    "db2 = np.sum(dscores, axis=0, keepdims=True)"
   ]
  },
  {
   "cell_type": "markdown",
   "metadata": {},
   "source": [
    "#### Backward through ReLU\n",
    "\n",
    "The other part of the this two layer network is actually the same as before, \n",
    "the only difference is the activation function ReLU.\n",
    "\n",
    "Since $ReLU(x)=max\\{0,x\\}$, We have that $\\frac{dReLU}{dx}=1(x>0)$, so ReLU is like a switch, kills off all the activation below 0."
   ]
  },
  {
   "cell_type": "code",
   "execution_count": 52,
   "metadata": {},
   "outputs": [],
   "source": [
    "dhidden = np.dot(dscores, W2.T)\n",
    "# backprop the ReLU non-linearity\n",
    "dhidden[hidden_layer <= 0] = 0"
   ]
  },
  {
   "cell_type": "code",
   "execution_count": 53,
   "metadata": {},
   "outputs": [],
   "source": [
    "# finally into W,b\n",
    "dW = np.dot(X_batch.T, dhidden)\n",
    "db = np.sum(dhidden, axis=0, keepdims=True)"
   ]
  },
  {
   "cell_type": "code",
   "execution_count": 54,
   "metadata": {},
   "outputs": [],
   "source": [
    "W += -step_size * dW\n",
    "b += -step_size * db\n",
    "W2 += -step_size * dW2\n",
    "b2 += -step_size * db2"
   ]
  },
  {
   "cell_type": "code",
   "execution_count": 55,
   "metadata": {},
   "outputs": [],
   "source": [
    "def forward(W, b, W2, b2, reg, X_batch, y_batch):\n",
    "    num_examples = X_batch.shape[0]\n",
    "    # evaluate class scores with a 2-layer Neural Network\n",
    "    hidden_layer = np.maximum(0, np.dot(X_batch, W) + b) # note, ReLU activation\n",
    "    scores = np.dot(hidden_layer, W2) + b2\n",
    "    \n",
    "    # get unnormalized probabilities\n",
    "    exp_scores = np.exp(scores)\n",
    "    # normalize them for each example\n",
    "    probs = exp_scores / np.sum(exp_scores, axis=1, keepdims=True)\n",
    "\n",
    "    correct_logprobs = -np.log(probs[range(num_examples), y_batch.astype(np.int)])\n",
    "    \n",
    "    # compute the loss: average cross-entropy loss and regularization\n",
    "    data_loss = np.sum(correct_logprobs) / num_examples\n",
    "    reg_loss = 0.5 * reg * np.sum(W * W)\n",
    "    loss = data_loss + reg_loss\n",
    "    return loss, probs, hidden_layer"
   ]
  },
  {
   "cell_type": "code",
   "execution_count": 56,
   "metadata": {},
   "outputs": [],
   "source": [
    "def backward(W, b, W2, b2, reg, X_batch, hidden_layer, y_batch, probs):\n",
    "    num_examples = X_batch.shape[0]\n",
    "    dscores = probs\n",
    "    dscores[range(num_examples), y_batch.astype(np.int)] -= 1\n",
    "    dscores /= num_examples\n",
    "    \n",
    "    # backpropate the gradient to the parameters\n",
    "    # first backprop into parameters W2 and b2\n",
    "    dW2 = np.dot(hidden_layer.T, dscores)\n",
    "    db2 = np.sum(dscores, axis=0, keepdims=True)\n",
    "    \n",
    "    dhidden = np.dot(dscores, W2.T)\n",
    "    # backprop the ReLU non-linearity\n",
    "    dhidden[hidden_layer <= 0] = 0\n",
    "    \n",
    "    # finally into W,b\n",
    "    dW = np.dot(X_batch.T, dhidden)\n",
    "    db = np.sum(dhidden, axis=0, keepdims=True)\n",
    "    return dW, db, dW2, db2"
   ]
  },
  {
   "cell_type": "markdown",
   "metadata": {},
   "source": [
    "#### Why ReLU, Why not sigmoid?\n",
    "\n",
    "Sigmoid is defined as \n",
    "$$\n",
    "sigmoid(z)=\\frac{1}{1+e^{-z}}\n",
    "$$\n",
    "ReLU is \n",
    "$$\n",
    "ReLU(z)=max\\{0,z\\}\n",
    "$$"
   ]
  },
  {
   "cell_type": "code",
   "execution_count": 57,
   "metadata": {},
   "outputs": [],
   "source": [
    "def sigmoid(z):\n",
    "    return 1 / (1+np.exp(-z))\n",
    "def relu(z):\n",
    "    return np.maximum(z, 0)"
   ]
  },
  {
   "cell_type": "code",
   "execution_count": 87,
   "metadata": {},
   "outputs": [],
   "source": [
    "def plot_function(function, title=\"sigmoid\"):\n",
    "    plt.figure()\n",
    "    x = np.arange(-7, 7, 0.01)\n",
    "    y = function(x)\n",
    "    print(y)\n",
    "    plt.plot(x, y)\n",
    "    plt.xlabel(\"x\")\n",
    "    plt.ylabel(\"y\")\n",
    "    plt.title(title)\n",
    "    plt.show()"
   ]
  },
  {
   "cell_type": "code",
   "execution_count": 82,
   "metadata": {},
   "outputs": [
    {
     "name": "stdout",
     "output_type": "stream",
     "text": [
      "[9.11051194e-04 9.20198986e-04 9.29438544e-04 ... 9.99061229e-01\n",
      " 9.99070561e-01 9.99079801e-01]\n"
     ]
    },
    {
     "data": {
      "image/png": "[encoded data removed]",
      "text/plain": [
       "<Figure size 432x288 with 1 Axes>"
      ]
     },
     "metadata": {
      "needs_background": "light"
     },
     "output_type": "display_data"
    }
   ],
   "source": [
    "plot_function(sigmoid, \"sigmoid\")"
   ]
  },
  {
   "cell_type": "code",
   "execution_count": 83,
   "metadata": {},
   "outputs": [
    {
     "name": "stdout",
     "output_type": "stream",
     "text": [
      "[0.   0.   0.   ... 6.97 6.98 6.99]\n"
     ]
    },
    {
     "data": {
      "image/png": "[encoded data removed]",
      "text/plain": [
       "<Figure size 432x288 with 1 Axes>"
      ]
     },
     "metadata": {
      "needs_background": "light"
     },
     "output_type": "display_data"
    }
   ],
   "source": [
    "plot_function(relu, \"ReLU\")"
   ]
  },
  {
   "cell_type": "markdown",
   "metadata": {},
   "source": [
    "If we compute the gradient for both sigmoid and ReLU, We can get\n",
    "\n",
    "$$\n",
    "\\frac{\\partial sigmoid(z)}{\\partial z}=sigmoid(z)*(1-sigmoid(z))\n",
    "$$\n",
    "and\n",
    "$$\n",
    "\\frac{\\partial relu(z)}{\\partial z}=1(z>0)\n",
    "$$"
   ]
  },
  {
   "cell_type": "code",
   "execution_count": 84,
   "metadata": {},
   "outputs": [],
   "source": [
    "def sigmoid_derivative(z):\n",
    "    return sigmoid(z) * (1 - sigmoid(z))\n",
    "\n",
    "def relu_derivative(z):\n",
    "    z[z <= 0] = 0\n",
    "    z[z > 0] = 1\n",
    "    return z"
   ]
  },
  {
   "cell_type": "code",
   "execution_count": 85,
   "metadata": {},
   "outputs": [
    {
     "name": "stdout",
     "output_type": "stream",
     "text": [
      "[0.00091022 0.00091935 0.00092857 ... 0.00093789 0.00092857 0.00091935]\n"
     ]
    },
    {
     "data": {
      "image/png": "[encoded data removed]",
      "text/plain": [
       "<Figure size 432x288 with 1 Axes>"
      ]
     },
     "metadata": {
      "needs_background": "light"
     },
     "output_type": "display_data"
    }
   ],
   "source": [
    "plot_function(sigmoid_derivative, \"sigmoid derivative\")"
   ]
  },
  {
   "cell_type": "code",
   "execution_count": 88,
   "metadata": {},
   "outputs": [
    {
     "name": "stdout",
     "output_type": "stream",
     "text": [
      "[0. 0. 0. ... 1. 1. 1.]\n"
     ]
    },
    {
     "data": {
      "image/png": "[encoded data removed]",
      "text/plain": [
       "<Figure size 432x288 with 1 Axes>"
      ]
     },
     "metadata": {
      "needs_background": "light"
     },
     "output_type": "display_data"
    }
   ],
   "source": [
    "plot_function(relu_derivative, \"relu derivative\")"
   ]
  },
  {
   "cell_type": "markdown",
   "metadata": {},
   "source": [
    "You will notice that the derivative of sigmoid never actually goes over 0.25, ReLU on the other hand, has a larger derivative.\n",
    "\n",
    "Recall that when we update the parameters, \n",
    "$$\n",
    "\\theta=\\theta-\\alpha \\frac{\\partial Cost}{\\partial \\theta}\n",
    "$$\n",
    "\n",
    "Small $\\frac{\\partial Cost}{\\partial \\theta}$ means slow Learning, so that sigmoid is actually not a good option if we want to learn a model fast."
   ]
  },
  {
   "cell_type": "markdown",
   "metadata": {},
   "source": [
    "#### Form a Training loop"
   ]
  },
  {
   "cell_type": "code",
   "execution_count": 64,
   "metadata": {},
   "outputs": [],
   "source": [
    "# initialize parameters randomly\n",
    "h = 256 # size of hidden layer\n",
    "W = 0.01 * np.random.randn(784,h)\n",
    "b = np.zeros((1,h))\n",
    "W2 = 0.01 * np.random.randn(h,10)\n",
    "b2 = np.zeros((1,10))"
   ]
  },
  {
   "cell_type": "code",
   "execution_count": 65,
   "metadata": {},
   "outputs": [],
   "source": [
    "# some hyperparameters\n",
    "step_size = 1e-3\n",
    "reg = 1e-3 # regularization strength"
   ]
  },
  {
   "cell_type": "code",
   "execution_count": 66,
   "metadata": {
    "code_folding": [],
    "scrolled": true
   },
   "outputs": [
    {
     "data": {
      "application/vnd.jupyter.widget-view+json": {
       "model_id": "8916f28fb3ec4203aad667a21b4cf8e5",
       "version_major": 2,
       "version_minor": 0
      },
      "text/plain": [
       "HBox(children=(IntProgress(value=0, max=1000), HTML(value='')))"
      ]
     },
     "metadata": {},
     "output_type": "display_data"
    },
    {
     "name": "stdout",
     "output_type": "stream",
     "text": [
      "iteration 0: loss 2.311251\n",
      "iteration 50: loss 0.425484\n",
      "iteration 100: loss 0.339399\n",
      "iteration 150: loss 0.311571\n",
      "iteration 200: loss 0.291808\n",
      "iteration 250: loss 0.272548\n",
      "iteration 300: loss 0.254677\n",
      "iteration 350: loss 0.237345\n",
      "iteration 400: loss 0.221120\n",
      "iteration 450: loss 0.205970\n",
      "iteration 500: loss 0.193160\n",
      "iteration 550: loss 0.182102\n",
      "iteration 600: loss 0.172023\n",
      "iteration 650: loss 0.162890\n",
      "iteration 700: loss 0.155158\n",
      "iteration 750: loss 0.148236\n",
      "iteration 800: loss 0.142088\n",
      "iteration 850: loss 0.136730\n",
      "iteration 900: loss 0.132154\n",
      "iteration 950: loss 0.128225\n",
      "\n"
     ]
    }
   ],
   "source": [
    "# gradient descent loop\n",
    "for i in tqdm_notebook(range(1000)):\n",
    "    for idx, (X_batch, y_batch) in enumerate(zip(X_mini_batches, y_mini_batches)):\n",
    "        loss, probs, hidden_layer = forward(W, b, W2, b2, reg, X_batch, y_batch)\n",
    "        if i % 50 == 0 and idx == 0:\n",
    "            print( \"iteration %d: loss %f\" % (i, loss))\n",
    "\n",
    "        dW, db, dW2, db2 = backward(W, b, W2, b2, reg, X_batch, hidden_layer, y_batch, probs)\n",
    "    \n",
    "        # perform a parameter update\n",
    "        W += -step_size * dW\n",
    "        b += -step_size * db\n",
    "        W2 += -step_size * dW2\n",
    "        b2 += -step_size * db2"
   ]
  },
  {
   "cell_type": "code",
   "execution_count": 67,
   "metadata": {},
   "outputs": [],
   "source": [
    "# Save the trained weight\n",
    "np.savez('weights.npz', W, b, W2, b2)"
   ]
  },
  {
   "cell_type": "code",
   "execution_count": 2,
   "metadata": {},
   "outputs": [],
   "source": [
    "weights = np.load('weights.npz')"
   ]
  },
  {
   "cell_type": "code",
   "execution_count": 3,
   "metadata": {},
   "outputs": [],
   "source": [
    "W, b, W2, b2 = weights['arr_0'], weights['arr_1'], weights['arr_2'], weights['arr_3']"
   ]
  },
  {
   "cell_type": "code",
   "execution_count": 70,
   "metadata": {},
   "outputs": [
    {
     "name": "stdout",
     "output_type": "stream",
     "text": [
      "training accuracy: 0.9727\n"
     ]
    }
   ],
   "source": [
    "# evaluate training set accuracy\n",
    "hidden_layer = np.maximum(0, np.dot(X, W) + b)\n",
    "scores = np.dot(hidden_layer, W2) + b2\n",
    "predicted_class = np.argmax(scores, axis=1)\n",
    "print( 'training accuracy: %.4f' % (np.mean(predicted_class == y)))"
   ]
  },
  {
   "cell_type": "code",
   "execution_count": 71,
   "metadata": {},
   "outputs": [
    {
     "name": "stdout",
     "output_type": "stream",
     "text": [
      "test accuracy: 0.9664\n"
     ]
    }
   ],
   "source": [
    "# evaluate test set accuracy\n",
    "hidden_layer = np.maximum(0, np.dot(X_test, W) + b)\n",
    "scores = np.dot(hidden_layer, W2) + b2\n",
    "predicted_class = np.argmax(scores, axis=1)\n",
    "print( 'test accuracy: %.4f' % (np.mean(predicted_class == y_test)))"
   ]
  },
  {
   "cell_type": "code",
   "execution_count": 94,
   "metadata": {},
   "outputs": [
    {
     "data": {
      "text/plain": [
       "array([0, 0, 0, ..., 0, 0, 0])"
      ]
     },
     "execution_count": 94,
     "metadata": {},
     "output_type": "execute_result"
    }
   ],
   "source": [
    "1 - (predicted_class == y_test)"
   ]
  },
  {
   "cell_type": "code",
   "execution_count": 99,
   "metadata": {},
   "outputs": [
    {
     "data": {
      "image/png": "[encoded data removed]",
      "text/plain": [
       "<Figure size 432x288 with 1 Axes>"
      ]
     },
     "metadata": {
      "needs_background": "light"
     },
     "output_type": "display_data"
    }
   ],
   "source": [
    "plt.imshow(X_test[(1 - (predicted_class == y_test)).astype(np.bool)][0].reshape((28, 28)), cmap='gray')\n",
    "plt.show()"
   ]
  },
  {
   "cell_type": "code",
   "execution_count": 100,
   "metadata": {},
   "outputs": [
    {
     "data": {
      "text/plain": [
       "9.0"
      ]
     },
     "execution_count": 100,
     "metadata": {},
     "output_type": "execute_result"
    }
   ],
   "source": [
    "y_test[(1 - (predicted_class == y_test)).astype(np.bool)][0]"
   ]
  },
  {
   "cell_type": "code",
   "execution_count": 101,
   "metadata": {},
   "outputs": [
    {
     "data": {
      "text/plain": [
       "7"
      ]
     },
     "execution_count": 101,
     "metadata": {},
     "output_type": "execute_result"
    }
   ],
   "source": [
    "predicted_class[(1 - (predicted_class == y_test)).astype(np.bool)][0]"
   ]
  },
  {
   "cell_type": "code",
   "execution_count": 11,
   "metadata": {},
   "outputs": [
    {
     "data": {
      "text/plain": [
       "<matplotlib.image.AxesImage at 0x7f1c4d7f3048>"
      ]
     },
     "execution_count": 11,
     "metadata": {},
     "output_type": "execute_result"
    },
    {
     "data": {
      "image/png": "[encoded data removed]",
      "text/plain": [
       "<Figure size 432x288 with 1 Axes>"
      ]
     },
     "metadata": {
      "needs_background": "light"
     },
     "output_type": "display_data"
    }
   ],
   "source": [
    "plt.imshow(X[0].reshape((28, 28)), cmap='gray')"
   ]
  },
  {
   "cell_type": "code",
   "execution_count": 12,
   "metadata": {},
   "outputs": [
    {
     "data": {
      "text/plain": [
       "<matplotlib.image.AxesImage at 0x7f1c4d8d0048>"
      ]
     },
     "execution_count": 12,
     "metadata": {},
     "output_type": "execute_result"
    },
    {
     "data": {
      "image/png": "[encoded data removed]",
      "text/plain": [
       "<Figure size 432x288 with 1 Axes>"
      ]
     },
     "metadata": {
      "needs_background": "light"
     },
     "output_type": "display_data"
    }
   ],
   "source": [
    "plt.imshow(W[:, 0].reshape((28, 28)) * X[0].reshape((28, 28)))"
   ]
  },
  {
   "cell_type": "code",
   "execution_count": 15,
   "metadata": {},
   "outputs": [
    {
     "data": {
      "image/png": "[encoded data removed]",
      "text/plain": [
       "<Figure size 432x288 with 1 Axes>"
      ]
     },
     "metadata": {
      "needs_background": "light"
     },
     "output_type": "display_data"
    }
   ],
   "source": [
    "plt.imshow(W[:, 0].reshape((28, 28)), cmap='gray')\n",
    "plt.show()"
   ]
  },
  {
   "cell_type": "code",
   "execution_count": 111,
   "metadata": {},
   "outputs": [
    {
     "data": {
      "image/png": "[encoded data removed]",
      "text/plain": [
       "<Figure size 432x288 with 1 Axes>"
      ]
     },
     "metadata": {
      "needs_background": "light"
     },
     "output_type": "display_data"
    }
   ],
   "source": [
    "plt.imshow(W[:, 2].reshape((28, 28)), cmap='gray')\n",
    "plt.show()"
   ]
  },
  {
   "cell_type": "code",
   "execution_count": null,
   "metadata": {},
   "outputs": [],
   "source": []
  }
 ],
 "metadata": {
  "kernelspec": {
   "display_name": "Python 3",
   "language": "python",
   "name": "python3"
  },
  "language_info": {
   "codemirror_mode": {
    "name": "ipython",
    "version": 3
   },
   "file_extension": ".py",
   "mimetype": "text/x-python",
   "name": "python",
   "nbconvert_exporter": "python",
   "pygments_lexer": "ipython3",
   "version": "3.7.0"
  },
  "latex_envs": {
   "LaTeX_envs_menu_present": true,
   "autoclose": false,
   "autocomplete": true,
   "bibliofile": "biblio.bib",
   "cite_by": "apalike",
   "current_citInitial": 1,
   "eqLabelWithNumbers": true,
   "eqNumInitial": 1,
   "hotkeys": {
    "equation": "Ctrl-E",
    "itemize": "Ctrl-I"
   },
   "labels_anchors": false,
   "latex_user_defs": false,
   "report_style_numbering": false,
   "user_envs_cfg": false
  }
 },
 "nbformat": 4,
 "nbformat_minor": 2
}
